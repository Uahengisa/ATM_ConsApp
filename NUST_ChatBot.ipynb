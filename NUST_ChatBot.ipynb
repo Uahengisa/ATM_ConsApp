{
  "nbformat": 4,
  "nbformat_minor": 0,
  "metadata": {
    "colab": {
      "provenance": [],
      "collapsed_sections": [],
      "include_colab_link": true
    },
    "kernelspec": {
      "name": "python3",
      "display_name": "Python 3"
    },
    "language_info": {
      "name": "python"
    }
  },
  "cells": [
    {
      "cell_type": "markdown",
      "metadata": {
        "id": "view-in-github",
        "colab_type": "text"
      },
      "source": [
        "<a href=\"https://colab.research.google.com/github/Uahengisa/ATM_ConsApp/blob/main/NUST_ChatBot.ipynb\" target=\"_parent\"><img src=\"https://colab.research.google.com/assets/colab-badge.svg\" alt=\"Open In Colab\"/></a>"
      ]
    },
    {
      "cell_type": "code",
      "execution_count": null,
      "metadata": {
        "id": "gh6X5dic7pdW"
      },
      "outputs": [],
      "source": [
        "#Description: This is a University website chat bot program designed to answer FAQ questions"
      ]
    },
    {
      "cell_type": "code",
      "source": [
        "pip install nltk"
      ],
      "metadata": {
        "colab": {
          "base_uri": "https://localhost:8080/"
        },
        "id": "Q-PDquVf77rH",
        "outputId": "f279eb45-57cc-47ac-98b0-6358919fc869"
      },
      "execution_count": null,
      "outputs": [
        {
          "output_type": "stream",
          "name": "stdout",
          "text": [
            "Looking in indexes: https://pypi.org/simple, https://us-python.pkg.dev/colab-wheels/public/simple/\n",
            "Requirement already satisfied: nltk in /usr/local/lib/python3.7/dist-packages (3.7)\n",
            "Requirement already satisfied: tqdm in /usr/local/lib/python3.7/dist-packages (from nltk) (4.64.1)\n",
            "Requirement already satisfied: regex>=2021.8.3 in /usr/local/lib/python3.7/dist-packages (from nltk) (2022.6.2)\n",
            "Requirement already satisfied: click in /usr/local/lib/python3.7/dist-packages (from nltk) (7.1.2)\n",
            "Requirement already satisfied: joblib in /usr/local/lib/python3.7/dist-packages (from nltk) (1.1.0)\n"
          ]
        }
      ]
    },
    {
      "cell_type": "code",
      "source": [
        "pip install pdfminer.six"
      ],
      "metadata": {
        "colab": {
          "base_uri": "https://localhost:8080/"
        },
        "id": "hqnxMxJvkcwN",
        "outputId": "768fcdd6-5a9b-413c-b175-70fdcf530655"
      },
      "execution_count": null,
      "outputs": [
        {
          "output_type": "stream",
          "name": "stdout",
          "text": [
            "Looking in indexes: https://pypi.org/simple, https://us-python.pkg.dev/colab-wheels/public/simple/\n",
            "Collecting pdfminer.six\n",
            "  Downloading pdfminer.six-20220524-py3-none-any.whl (5.6 MB)\n",
            "\u001b[K     |████████████████████████████████| 5.6 MB 14.0 MB/s \n",
            "\u001b[?25hRequirement already satisfied: charset-normalizer>=2.0.0 in /usr/local/lib/python3.7/dist-packages (from pdfminer.six) (2.1.1)\n",
            "Collecting cryptography>=36.0.0\n",
            "  Downloading cryptography-38.0.1-cp36-abi3-manylinux_2_24_x86_64.whl (4.0 MB)\n",
            "\u001b[K     |████████████████████████████████| 4.0 MB 61.6 MB/s \n",
            "\u001b[?25hRequirement already satisfied: cffi>=1.12 in /usr/local/lib/python3.7/dist-packages (from cryptography>=36.0.0->pdfminer.six) (1.15.1)\n",
            "Requirement already satisfied: pycparser in /usr/local/lib/python3.7/dist-packages (from cffi>=1.12->cryptography>=36.0.0->pdfminer.six) (2.21)\n",
            "Installing collected packages: cryptography, pdfminer.six\n",
            "Successfully installed cryptography-38.0.1 pdfminer.six-20220524\n"
          ]
        }
      ]
    },
    {
      "cell_type": "code",
      "source": [
        "pip install PyPDF2"
      ],
      "metadata": {
        "colab": {
          "base_uri": "https://localhost:8080/"
        },
        "id": "TG4tvA_hkkaA",
        "outputId": "57302f26-d6bd-43bc-8e60-499e53581975"
      },
      "execution_count": null,
      "outputs": [
        {
          "output_type": "stream",
          "name": "stdout",
          "text": [
            "Looking in indexes: https://pypi.org/simple, https://us-python.pkg.dev/colab-wheels/public/simple/\n",
            "Collecting PyPDF2\n",
            "  Downloading PyPDF2-2.10.9-py3-none-any.whl (218 kB)\n",
            "\u001b[K     |████████████████████████████████| 218 kB 37.1 MB/s \n",
            "\u001b[?25hRequirement already satisfied: typing-extensions>=3.10.0.0 in /usr/local/lib/python3.7/dist-packages (from PyPDF2) (4.1.1)\n",
            "Installing collected packages: PyPDF2\n",
            "Successfully installed PyPDF2-2.10.9\n"
          ]
        }
      ]
    },
    {
      "cell_type": "code",
      "source": [
        "pip install newspaper3k"
      ],
      "metadata": {
        "colab": {
          "base_uri": "https://localhost:8080/"
        },
        "id": "PRC14wcA8BBg",
        "outputId": "099ee3e6-7957-475a-91f4-ba788375a3ce"
      },
      "execution_count": null,
      "outputs": [
        {
          "output_type": "stream",
          "name": "stdout",
          "text": [
            "Looking in indexes: https://pypi.org/simple, https://us-python.pkg.dev/colab-wheels/public/simple/\n",
            "Collecting newspaper3k\n",
            "  Downloading newspaper3k-0.2.8-py3-none-any.whl (211 kB)\n",
            "\u001b[K     |████████████████████████████████| 211 kB 22.9 MB/s \n",
            "\u001b[?25hRequirement already satisfied: requests>=2.10.0 in /usr/local/lib/python3.7/dist-packages (from newspaper3k) (2.23.0)\n",
            "Collecting tldextract>=2.0.1\n",
            "  Downloading tldextract-3.3.1-py3-none-any.whl (93 kB)\n",
            "\u001b[K     |████████████████████████████████| 93 kB 2.2 MB/s \n",
            "\u001b[?25hCollecting feedfinder2>=0.0.4\n",
            "  Downloading feedfinder2-0.0.4.tar.gz (3.3 kB)\n",
            "Requirement already satisfied: nltk>=3.2.1 in /usr/local/lib/python3.7/dist-packages (from newspaper3k) (3.7)\n",
            "Requirement already satisfied: PyYAML>=3.11 in /usr/local/lib/python3.7/dist-packages (from newspaper3k) (6.0)\n",
            "Requirement already satisfied: Pillow>=3.3.0 in /usr/local/lib/python3.7/dist-packages (from newspaper3k) (7.1.2)\n",
            "Collecting feedparser>=5.2.1\n",
            "  Downloading feedparser-6.0.10-py3-none-any.whl (81 kB)\n",
            "\u001b[K     |████████████████████████████████| 81 kB 10.2 MB/s \n",
            "\u001b[?25hRequirement already satisfied: python-dateutil>=2.5.3 in /usr/local/lib/python3.7/dist-packages (from newspaper3k) (2.8.2)\n",
            "Collecting jieba3k>=0.35.1\n",
            "  Downloading jieba3k-0.35.1.zip (7.4 MB)\n",
            "\u001b[K     |████████████████████████████████| 7.4 MB 79.8 MB/s \n",
            "\u001b[?25hRequirement already satisfied: beautifulsoup4>=4.4.1 in /usr/local/lib/python3.7/dist-packages (from newspaper3k) (4.6.3)\n",
            "Requirement already satisfied: lxml>=3.6.0 in /usr/local/lib/python3.7/dist-packages (from newspaper3k) (4.9.1)\n",
            "Collecting cssselect>=0.9.2\n",
            "  Downloading cssselect-1.1.0-py2.py3-none-any.whl (16 kB)\n",
            "Collecting tinysegmenter==0.3\n",
            "  Downloading tinysegmenter-0.3.tar.gz (16 kB)\n",
            "Requirement already satisfied: six in /usr/local/lib/python3.7/dist-packages (from feedfinder2>=0.0.4->newspaper3k) (1.15.0)\n",
            "Collecting sgmllib3k\n",
            "  Downloading sgmllib3k-1.0.0.tar.gz (5.8 kB)\n",
            "Requirement already satisfied: regex>=2021.8.3 in /usr/local/lib/python3.7/dist-packages (from nltk>=3.2.1->newspaper3k) (2022.6.2)\n",
            "Requirement already satisfied: joblib in /usr/local/lib/python3.7/dist-packages (from nltk>=3.2.1->newspaper3k) (1.1.0)\n",
            "Requirement already satisfied: tqdm in /usr/local/lib/python3.7/dist-packages (from nltk>=3.2.1->newspaper3k) (4.64.1)\n",
            "Requirement already satisfied: click in /usr/local/lib/python3.7/dist-packages (from nltk>=3.2.1->newspaper3k) (7.1.2)\n",
            "Requirement already satisfied: chardet<4,>=3.0.2 in /usr/local/lib/python3.7/dist-packages (from requests>=2.10.0->newspaper3k) (3.0.4)\n",
            "Requirement already satisfied: idna<3,>=2.5 in /usr/local/lib/python3.7/dist-packages (from requests>=2.10.0->newspaper3k) (2.10)\n",
            "Requirement already satisfied: certifi>=2017.4.17 in /usr/local/lib/python3.7/dist-packages (from requests>=2.10.0->newspaper3k) (2022.6.15)\n",
            "Requirement already satisfied: urllib3!=1.25.0,!=1.25.1,<1.26,>=1.21.1 in /usr/local/lib/python3.7/dist-packages (from requests>=2.10.0->newspaper3k) (1.24.3)\n",
            "Collecting requests-file>=1.4\n",
            "  Downloading requests_file-1.5.1-py2.py3-none-any.whl (3.7 kB)\n",
            "Requirement already satisfied: filelock>=3.0.8 in /usr/local/lib/python3.7/dist-packages (from tldextract>=2.0.1->newspaper3k) (3.8.0)\n",
            "Building wheels for collected packages: tinysegmenter, feedfinder2, jieba3k, sgmllib3k\n",
            "  Building wheel for tinysegmenter (setup.py) ... \u001b[?25l\u001b[?25hdone\n",
            "  Created wheel for tinysegmenter: filename=tinysegmenter-0.3-py3-none-any.whl size=13553 sha256=012a943ae01f85b48ab084b00370f80fb8aedbc107e6f740ed02d1bf3c9575e1\n",
            "  Stored in directory: /root/.cache/pip/wheels/df/67/41/faca10fa501ca010be41b49d40360c2959e1c4f09bcbfa37fa\n",
            "  Building wheel for feedfinder2 (setup.py) ... \u001b[?25l\u001b[?25hdone\n",
            "  Created wheel for feedfinder2: filename=feedfinder2-0.0.4-py3-none-any.whl size=3357 sha256=a694dd88a97de7b491db74597bf6ce97aaec30a391bac0ac618e7cb006796cb4\n",
            "  Stored in directory: /root/.cache/pip/wheels/7f/d4/8f/6e2ca54744c9d7292d88ddb8d42876bcdab5e6d84a21c10346\n",
            "  Building wheel for jieba3k (setup.py) ... \u001b[?25l\u001b[?25hdone\n",
            "  Created wheel for jieba3k: filename=jieba3k-0.35.1-py3-none-any.whl size=7398404 sha256=d5e7ecd2ff0be07b3a739d2e7333338915638bf64dda2ae07b61ff5d90bec719\n",
            "  Stored in directory: /root/.cache/pip/wheels/4c/91/46/3c208287b726df325a5979574324878b679116e4baae1af3c3\n",
            "  Building wheel for sgmllib3k (setup.py) ... \u001b[?25l\u001b[?25hdone\n",
            "  Created wheel for sgmllib3k: filename=sgmllib3k-1.0.0-py3-none-any.whl size=6066 sha256=ca00b5c0cd1be1647d3a033985318d446a7330ce5a7dfc10f0ca7ddd7f540086\n",
            "  Stored in directory: /root/.cache/pip/wheels/73/ad/a4/0dff4a6ef231fc0dfa12ffbac2a36cebfdddfe059f50e019aa\n",
            "Successfully built tinysegmenter feedfinder2 jieba3k sgmllib3k\n",
            "Installing collected packages: sgmllib3k, requests-file, tldextract, tinysegmenter, jieba3k, feedparser, feedfinder2, cssselect, newspaper3k\n",
            "Successfully installed cssselect-1.1.0 feedfinder2-0.0.4 feedparser-6.0.10 jieba3k-0.35.1 newspaper3k-0.2.8 requests-file-1.5.1 sgmllib3k-1.0.0 tinysegmenter-0.3 tldextract-3.3.1\n"
          ]
        }
      ]
    },
    {
      "cell_type": "code",
      "source": [
        "from newspaper import Article\n",
        "import random\n",
        "import string\n",
        "import nltk\n",
        "from nltk.chat.util import Chat, reflections\n",
        "from sklearn.feature_extraction.text import CountVectorizer\n",
        "from sklearn.metrics.pairwise import cosine_similarity\n",
        "import numpy as np\n",
        "import warnings\n",
        "warnings.filterwarnings ('ignore')"
      ],
      "metadata": {
        "id": "sIgbkiyG8YqO"
      },
      "execution_count": null,
      "outputs": []
    },
    {
      "cell_type": "code",
      "source": [
        "from pdfminer.high_level import extract_text\n",
        "import pdfminer\n",
        "from pdfminer.pdfinterp import PDFResourceManager , PDFPageInterpreter\n",
        "from pdfminer.layout import LAParams          \n",
        "from pdfminer.converter import TextConverter\n",
        "from io import StringIO\n",
        "from pdfminer.pdfpage import PDFPage\n",
        "print(pdfminer.__version__)"
      ],
      "metadata": {
        "colab": {
          "base_uri": "https://localhost:8080/"
        },
        "id": "sFSW15xMlt0J",
        "outputId": "b01fbf97-4f44-4bd7-deae-7e78e68c1315"
      },
      "execution_count": null,
      "outputs": [
        {
          "output_type": "stream",
          "name": "stdout",
          "text": [
            "20220524\n"
          ]
        }
      ]
    },
    {
      "cell_type": "code",
      "source": [
        "def get_pdf_file_content(path_to_pdf):\n",
        "    resource_manager=PDFResourceManager(caching=True)\n",
        "    out_text = StringIO()\n",
        "    laParams = LAParams()\n",
        "    text_converter = TextConverter(resource_manager, out_text, laparams=laParams)\n",
        "    fp = open(path_to_pdf,'rb')\n",
        "    interpreter = PDFPageInterpreter(resource_manager, text_converter)\n",
        "    for page in PDFPage.get_pages(fp, pagenos=set(), maxpages=0, password = \" \", caching = True, check_extractable = True):\n",
        "        interpreter.process_page(page)\n",
        "    \n",
        "    text = out_text.getvalue()\n",
        "    fp.close()\n",
        "    text_converter.close()\n",
        "    out_text.close()\n",
        "\n",
        "    return text"
      ],
      "metadata": {
        "id": "XIAmmhPArKqh"
      },
      "execution_count": null,
      "outputs": []
    },
    {
      "cell_type": "code",
      "source": [
        "path_to_pdf = \"/content/SYD Ass 1 Uahengisa.pdf\""
      ],
      "metadata": {
        "id": "IQ7kAq7YuI7K"
      },
      "execution_count": null,
      "outputs": []
    },
    {
      "cell_type": "code",
      "source": [
        "print(get_pdf_file_content(path_to_pdf))"
      ],
      "metadata": {
        "colab": {
          "base_uri": "https://localhost:8080/"
        },
        "id": "xZ3M1DKEu2Kj",
        "outputId": "71bd0961-7692-4d61-fcbb-578d9d758c12"
      },
      "execution_count": null,
      "outputs": [
        {
          "output_type": "stream",
          "name": "stdout",
          "text": [
            "Sustainability and \n",
            "\n",
            "Development \n",
            "\n",
            "Assignment 1 \n",
            "\n",
            "Uahengisa Katjizuko \n",
            "\n",
            "220040850 \n",
            "\n",
            "1 | P a g e  \n",
            "\n",
            " \n",
            "  \n",
            " \n",
            " \n",
            "\fTable of contents \n",
            "\n",
            "Introduction ……………………………………………………………………………… 3 \n",
            "\n",
            "1.  Challenges of governance ……………………………………….................... 3 \n",
            "\n",
            "1.1) The governance of tourism ………………………………………………. 3 \n",
            "\n",
            "2.  Best Practices for Good Governance in African States ……………………. 4 \n",
            "\n",
            "2.1) Local Economic Development …………………………………………... 4 \n",
            "\n",
            "2.2) Decentralisation …………………………………………………………… 4 \n",
            "\n",
            "Recommendations……………………………………………………………………… 4 \n",
            "\n",
            "Conclusion ……………………………………………………………………………… 5 \n",
            "\n",
            "References ………..…………….……………………………………………………… 6 \n",
            "\n",
            "2 | P a g e  \n",
            "\n",
            " \n",
            " \n",
            " \n",
            " \n",
            " \n",
            " \n",
            " \n",
            "\fHow  African  states  or  governments  can  reform  for  better  practices  of \n",
            "\n",
            "governance  \n",
            "\n",
            "Introduction \n",
            "\n",
            "The  improvements  in  governance  that  African  nations  have  made  during  the  early \n",
            "\n",
            "1990s are still being built upon. An effective state, a strong business sector, and a civil \n",
            "\n",
            "society  that  is  actively  engaged  should  be  the  cornerstones  of  good  governance. \n",
            "\n",
            "Transparency,  accountability,  citizen  participation,  battling  corruption,  and  a \n",
            "\n",
            "supportive  legal/judicial  framework  are  thus  the  essential  components  of  good \n",
            "\n",
            "government.  For  the  principles  of  good  governance  to  be  recognized  as  legal \n",
            "\n",
            "principles, they must be referred to as a component of the legal system (Addink, 2019). \n",
            "\n",
            "The degree of peace and stability as well as the chances for economic development \n",
            "\n",
            "in  Africa  are  shaped  by  the  nature  and  qualities  of  the  governance.  According \n",
            "\n",
            "to Crocker (2020)  governance  has  an  essential regional component  with  regards  to \n",
            "\n",
            "the institutional frameworks and norms that direct a region's response to problems and \n",
            "\n",
            "help  form  its  political  culture.  This  paper  focuses  on  examining  African  states’ \n",
            "\n",
            "governance  practices  and  how  the  governments  can  reform  for  best  practices  of \n",
            "\n",
            "governance. \n",
            "\n",
            "1.  Challenges of governance \n",
            "\n",
            "The relationship between conflict and governance is reciprocal. Governments \n",
            "\n",
            "may be forced to make difficult decisions that end up exacerbating the issue, \n",
            "\n",
            "leading  to  increased  corruption  concerns  and  the  precarious  position  of \n",
            "\n",
            "cooperating  with  criminal  organisations  (Crocker,  2020).  On  the  other  hand, \n",
            "\n",
            "poor or destructive governance can occasionally be the root of disputes. \n",
            "\n",
            "1.1) The governance of tourism \n",
            "\n",
            "The  significant  impact  that  tourism  has  had  on  global  socio-economic \n",
            "\n",
            "development  is  well  known.  The  role  of  the  government,  the  private  sector, \n",
            "\n",
            "benefit distribution, and the social and environmental cost of the industry are, \n",
            "\n",
            "however,  challenges  in  the  governance  of  tourism.  Effective  and  equitable \n",
            "\n",
            "resource  utilisation  and  development  can  be  encouraged  by  governance.  In \n",
            "\n",
            "light  of  the  potential  for  tourism  to  help  achieve  some  of  the  Sustainable \n",
            "\n",
            "3 | P a g e  \n",
            "\n",
            " \n",
            " \n",
            " \n",
            " \n",
            " \n",
            "\fDevelopment  Goals  (SDGs),  policy-makers,  researchers,  tourist  industry \n",
            "\n",
            "professionals, and destination management are urging the sector to pursue and \n",
            "\n",
            "support good governance. \n",
            "\n",
            "2.  Best Practices for Good Governance in African States \n",
            "\n",
            "As  envisioned  by  the  African  Democracy  Charter,  the  Constitutive  Act,  and \n",
            "\n",
            "ambition  3  of  Agenda  2063,  good  governance  practices  must  spread \n",
            "\n",
            "throughout  Africa  in  order  for  integration  to  occur.  This  requires  stronger \n",
            "\n",
            "involvement and synergies between African Union(AU) institutions and Member \n",
            "\n",
            "States (Addaney et al., 2020).  \n",
            "\n",
            "2.1)  Local Economic Development \n",
            "\n",
            "Using  current  institutional,  human,  and  natural  resources,  Local  Economic \n",
            "\n",
            "development (LED) can be understood as a process that local governments or \n",
            "\n",
            "community-based  organizations  engage  in  to  promote  or  maintain  business \n",
            "\n",
            "activity  and  employment  possibilities  in  areas  that  benefit  the  community \n",
            "\n",
            "(Khumalo, 2018).  \n",
            "\n",
            "2.2)  Decentralisation \n",
            "\n",
            "Decentralisation  is  increasingly  recognized  as  a  key  component  of  effective \n",
            "\n",
            "government.  According  to  Khumalo (2018)  it  entails  the  transfer  of  planning, \n",
            "\n",
            "management, resource allocation, and raising and allocating authority from the \n",
            "\n",
            "central  government  and  its  agencies  to  field  units  of  government  agencies, \n",
            "\n",
            "lower-ranking  units  of  government,  partially-autonomous  authorities  of  the \n",
            "\n",
            "public. \n",
            "\n",
            "Recommendations \n",
            "\n",
            "1.  African  Countries  need  to  identify  the  key  variables  that  help  shape  their \n",
            "\n",
            "governance context. These are variables such as the impact of climate change \n",
            "\n",
            "and  how  to  mitigate  it,  access  to  education,  the  growth  rates  of  income  and \n",
            "\n",
            "development, events of conflict and urbanisation rates. \n",
            "\n",
            "4 | P a g e  \n",
            "\n",
            " \n",
            " \n",
            " \n",
            " \n",
            " \n",
            " \n",
            " \n",
            "\f2.  Inclusive institutions should be developed to include conflicts that allow political \n",
            "\n",
            "and societal actors to restrain the power of vested interests and increase rule-\n",
            "\n",
            "based engagement in governance. \n",
            "\n",
            "3.  Political  systems  should  make  efforts  in  adapting  and  following  the  following \n",
            "\n",
            "eight  principles:  participation,  consistency  with  the  rule  of  law,  transparency \n",
            "\n",
            "responsiveness,  consensus-oriented,  equitable  and  inclusive,  effectiveness \n",
            "\n",
            "and efficiency and accountability. \n",
            "\n",
            "Conclusion \n",
            "\n",
            "If Africa is to attain its development objectives, it is crucial that nations ingrain systems \n",
            "\n",
            "that  support  democracy,  accountability,  constitutionalism,  and  good  governance. \n",
            "\n",
            "Good governance principles can only be considered legal principles when they have \n",
            "\n",
            "been  incorporated  into  the  legal  system  and  their  use  has  a  legal  consequence. \n",
            "\n",
            "Although African states face various challenges with practising good governance, it is \n",
            "\n",
            "now  well  acknowledged  that  tourism  is  crucial  to  socioeconomic  growth  and  by \n",
            "\n",
            "enhancing tourism governance, inclusive and sustainable growth can be encouraged. \n",
            "\n",
            "The  decentralisation  of  resources,  power  and  responsibilities  plays  a  critical  role  in \n",
            "\n",
            "governance reform to empower governments.  \n",
            "\n",
            "5 | P a g e  \n",
            "\n",
            " \n",
            " \n",
            " \n",
            " \n",
            " \n",
            " \n",
            " \n",
            "\fReferences \n",
            "\n",
            "Addaney, M., Nyarko, M. G., & Boshoff, E. (2020). Governance, Human Rights, and \n",
            "\n",
            "Political Transformation in Africa (1st ed. 2020 ed.). Palgrave Macmillan. \n",
            "\n",
            "Addink, H. (2019). Good Governance: Concept and Context (Illustrated ed.). Oxford \n",
            "\n",
            "University Press. \n",
            "\n",
            "Crocker, C. (2020). AFRICAN GOVERNANCE: CHALLENGES AND THEIR \n",
            "\n",
            "IMPLICATIONS. International Journal of Comparative Studies in International \n",
            "\n",
            "Relations and Development, 5(1), 45–56. \n",
            "\n",
            "https://doi.org/10.48028/iiprds/ijcsird.v5.i1.05 \n",
            "\n",
            "Khumalo, P. (2018). Governance and Local Economic Development in Three Southern \n",
            "\n",
            "African Countries: Namibia, South Africa and Zimbabwe. Alternation: \n",
            "\n",
            "Interdisciplinary Journal for the Study of the Arts and Humanities in Southern Africa, \n",
            "\n",
            "25(1), 68–88. https://doi.org/10.29086/2519-5476/2018/v25n1a4 \n",
            "\n",
            "Obinna Franklin Ifediora. (2016). The Responsibility to Protect and the African Governance \n",
            "\n",
            "Architecture: Explaining the Nexus. African Conflict and Peacebuilding Review, 6(2), \n",
            "\n",
            "94. https://doi.org/10.2979/africonfpeacrevi.6.2.05 \n",
            "\n",
            "6 | P a g e  \n",
            "\n",
            " \n",
            " \n",
            " \n",
            " \n",
            "\f\n"
          ]
        }
      ]
    },
    {
      "cell_type": "code",
      "source": [
        "text = extract_text('/content/SYD Ass 1 Uahengisa.pdf')\n",
        "#text = extract_text('samples/simple1.pdf')\n",
        "print(repr(text))"
      ],
      "metadata": {
        "colab": {
          "base_uri": "https://localhost:8080/"
        },
        "id": "vvOfOtFwl0xA",
        "outputId": "32f80f7f-8236-42d5-e308-78ef0a7b510f"
      },
      "execution_count": null,
      "outputs": [
        {
          "output_type": "stream",
          "name": "stdout",
          "text": [
            "\"Sustainability and \\n\\nDevelopment \\n\\nAssignment 1 \\n\\nUahengisa Katjizuko \\n\\n220040850 \\n\\n1 | P a g e  \\n\\n \\n  \\n \\n \\n\\x0cTable of contents \\n\\nIntroduction ……………………………………………………………………………… 3 \\n\\n1.  Challenges of governance ……………………………………….................... 3 \\n\\n1.1) The governance of tourism ………………………………………………. 3 \\n\\n2.  Best Practices for Good Governance in African States ……………………. 4 \\n\\n2.1) Local Economic Development …………………………………………... 4 \\n\\n2.2) Decentralisation …………………………………………………………… 4 \\n\\nRecommendations……………………………………………………………………… 4 \\n\\nConclusion ……………………………………………………………………………… 5 \\n\\nReferences ………..…………….……………………………………………………… 6 \\n\\n2 | P a g e  \\n\\n \\n \\n \\n \\n \\n \\n \\n\\x0cHow  African  states  or  governments  can  reform  for  better  practices  of \\n\\ngovernance  \\n\\nIntroduction \\n\\nThe  improvements  in  governance  that  African  nations  have  made  during  the  early \\n\\n1990s are still being built upon. An effective state, a strong business sector, and a civil \\n\\nsociety  that  is  actively  engaged  should  be  the  cornerstones  of  good  governance. \\n\\nTransparency,  accountability,  citizen  participation,  battling  corruption,  and  a \\n\\nsupportive  legal/judicial  framework  are  thus  the  essential  components  of  good \\n\\ngovernment.  For  the  principles  of  good  governance  to  be  recognized  as  legal \\n\\nprinciples, they must be referred to as a component of the legal system (Addink, 2019). \\n\\nThe degree of peace and stability as well as the chances for economic development \\n\\nin  Africa  are  shaped  by  the  nature  and  qualities  of  the  governance.  According \\n\\nto Crocker (2020)  governance  has  an  essential regional component  with  regards  to \\n\\nthe institutional frameworks and norms that direct a region's response to problems and \\n\\nhelp  form  its  political  culture.  This  paper  focuses  on  examining  African  states’ \\n\\ngovernance  practices  and  how  the  governments  can  reform  for  best  practices  of \\n\\ngovernance. \\n\\n1.  Challenges of governance \\n\\nThe relationship between conflict and governance is reciprocal. Governments \\n\\nmay be forced to make difficult decisions that end up exacerbating the issue, \\n\\nleading  to  increased  corruption  concerns  and  the  precarious  position  of \\n\\ncooperating  with  criminal  organisations  (Crocker,  2020).  On  the  other  hand, \\n\\npoor or destructive governance can occasionally be the root of disputes. \\n\\n1.1) The governance of tourism \\n\\nThe  significant  impact  that  tourism  has  had  on  global  socio-economic \\n\\ndevelopment  is  well  known.  The  role  of  the  government,  the  private  sector, \\n\\nbenefit distribution, and the social and environmental cost of the industry are, \\n\\nhowever,  challenges  in  the  governance  of  tourism.  Effective  and  equitable \\n\\nresource  utilisation  and  development  can  be  encouraged  by  governance.  In \\n\\nlight  of  the  potential  for  tourism  to  help  achieve  some  of  the  Sustainable \\n\\n3 | P a g e  \\n\\n \\n \\n \\n \\n \\n\\x0cDevelopment  Goals  (SDGs),  policy-makers,  researchers,  tourist  industry \\n\\nprofessionals, and destination management are urging the sector to pursue and \\n\\nsupport good governance. \\n\\n2.  Best Practices for Good Governance in African States \\n\\nAs  envisioned  by  the  African  Democracy  Charter,  the  Constitutive  Act,  and \\n\\nambition  3  of  Agenda  2063,  good  governance  practices  must  spread \\n\\nthroughout  Africa  in  order  for  integration  to  occur.  This  requires  stronger \\n\\ninvolvement and synergies between African Union(AU) institutions and Member \\n\\nStates (Addaney et al., 2020).  \\n\\n2.1)  Local Economic Development \\n\\nUsing  current  institutional,  human,  and  natural  resources,  Local  Economic \\n\\ndevelopment (LED) can be understood as a process that local governments or \\n\\ncommunity-based  organizations  engage  in  to  promote  or  maintain  business \\n\\nactivity  and  employment  possibilities  in  areas  that  benefit  the  community \\n\\n(Khumalo, 2018).  \\n\\n2.2)  Decentralisation \\n\\nDecentralisation  is  increasingly  recognized  as  a  key  component  of  effective \\n\\ngovernment.  According  to  Khumalo (2018)  it  entails  the  transfer  of  planning, \\n\\nmanagement, resource allocation, and raising and allocating authority from the \\n\\ncentral  government  and  its  agencies  to  field  units  of  government  agencies, \\n\\nlower-ranking  units  of  government,  partially-autonomous  authorities  of  the \\n\\npublic. \\n\\nRecommendations \\n\\n1.  African  Countries  need  to  identify  the  key  variables  that  help  shape  their \\n\\ngovernance context. These are variables such as the impact of climate change \\n\\nand  how  to  mitigate  it,  access  to  education,  the  growth  rates  of  income  and \\n\\ndevelopment, events of conflict and urbanisation rates. \\n\\n4 | P a g e  \\n\\n \\n \\n \\n \\n \\n \\n \\n\\x0c2.  Inclusive institutions should be developed to include conflicts that allow political \\n\\nand societal actors to restrain the power of vested interests and increase rule-\\n\\nbased engagement in governance. \\n\\n3.  Political  systems  should  make  efforts  in  adapting  and  following  the  following \\n\\neight  principles:  participation,  consistency  with  the  rule  of  law,  transparency \\n\\nresponsiveness,  consensus-oriented,  equitable  and  inclusive,  effectiveness \\n\\nand efficiency and accountability. \\n\\nConclusion \\n\\nIf Africa is to attain its development objectives, it is crucial that nations ingrain systems \\n\\nthat  support  democracy,  accountability,  constitutionalism,  and  good  governance. \\n\\nGood governance principles can only be considered legal principles when they have \\n\\nbeen  incorporated  into  the  legal  system  and  their  use  has  a  legal  consequence. \\n\\nAlthough African states face various challenges with practising good governance, it is \\n\\nnow  well  acknowledged  that  tourism  is  crucial  to  socioeconomic  growth  and  by \\n\\nenhancing tourism governance, inclusive and sustainable growth can be encouraged. \\n\\nThe  decentralisation  of  resources,  power  and  responsibilities  plays  a  critical  role  in \\n\\ngovernance reform to empower governments.  \\n\\n5 | P a g e  \\n\\n \\n \\n \\n \\n \\n \\n \\n\\x0cReferences \\n\\nAddaney, M., Nyarko, M. G., & Boshoff, E. (2020). Governance, Human Rights, and \\n\\nPolitical Transformation in Africa (1st ed. 2020 ed.). Palgrave Macmillan. \\n\\nAddink, H. (2019). Good Governance: Concept and Context (Illustrated ed.). Oxford \\n\\nUniversity Press. \\n\\nCrocker, C. (2020). AFRICAN GOVERNANCE: CHALLENGES AND THEIR \\n\\nIMPLICATIONS. International Journal of Comparative Studies in International \\n\\nRelations and Development, 5(1), 45–56. \\n\\nhttps://doi.org/10.48028/iiprds/ijcsird.v5.i1.05 \\n\\nKhumalo, P. (2018). Governance and Local Economic Development in Three Southern \\n\\nAfrican Countries: Namibia, South Africa and Zimbabwe. Alternation: \\n\\nInterdisciplinary Journal for the Study of the Arts and Humanities in Southern Africa, \\n\\n25(1), 68–88. https://doi.org/10.29086/2519-5476/2018/v25n1a4 \\n\\nObinna Franklin Ifediora. (2016). The Responsibility to Protect and the African Governance \\n\\nArchitecture: Explaining the Nexus. African Conflict and Peacebuilding Review, 6(2), \\n\\n94. https://doi.org/10.2979/africonfpeacrevi.6.2.05 \\n\\n6 | P a g e  \\n\\n \\n \\n \\n \\n\\x0c\"\n"
          ]
        }
      ]
    },
    {
      "cell_type": "code",
      "source": [
        "nltk.download ('punkt', quiet = True)"
      ],
      "metadata": {
        "colab": {
          "base_uri": "https://localhost:8080/"
        },
        "id": "FFZLhsba8x0W",
        "outputId": "216f9ed1-3956-4986-8bb5-f7ff9f7a7091"
      },
      "execution_count": null,
      "outputs": [
        {
          "output_type": "execute_result",
          "data": {
            "text/plain": [
              "True"
            ]
          },
          "metadata": {},
          "execution_count": 10
        }
      ]
    },
    {
      "cell_type": "code",
      "source": [
        "#Get the article\n",
        "#article = Article('https://www.mayoclinic.org/diseases-conditions/chronic-kidney-disease/symptoms-causes/syc-20354521')\n",
        "article = Article('https://uwaterloo.ca/graduate-studies-postdoctoral-affairs/new-students/frequently-asked-questions-faqs-new-students') \n",
        "article.download()\n",
        "article.parse()\n",
        "article.nlp()\n",
        "\n",
        "corpus = article.text"
      ],
      "metadata": {
        "id": "iQvt039d83Ij"
      },
      "execution_count": null,
      "outputs": []
    },
    {
      "cell_type": "code",
      "source": [
        "#corpus = text"
      ],
      "metadata": {
        "id": "HrgunCqV7kdm"
      },
      "execution_count": null,
      "outputs": []
    },
    {
      "cell_type": "code",
      "source": [
        "#Print website content\n",
        "print(corpus)"
      ],
      "metadata": {
        "colab": {
          "base_uri": "https://localhost:8080/"
        },
        "id": "DEx6Oivl8_RN",
        "outputId": "6774f679-651a-4fe1-e044-14223ee33c1a"
      },
      "execution_count": null,
      "outputs": [
        {
          "output_type": "stream",
          "name": "stdout",
          "text": [
            "As you navigate the next exciting chapter of your academic life by starting your master’s or doctoral degree, we know you may have some questions. Below we provide you with some answers! If you don’t see your question (and your answer!), please explore the ways that you can connect with us to access the information you need.\n",
            "\n",
            "General COVID-19 related questions\n",
            "\n",
            "For answers to your general COVID-19 questions, including proof of vaccination status, campus Check-In tools, masks and facilities, visit the Frequently ask questions page on the COVID-19 information website.\n",
            "\n",
            "Return to top\n",
            "\n",
            "International students\n",
            "\n",
            "Our colleagues in the Student Success Office, including immigration consultants, have provided a comprehensive list of questions and answers for international students. We encourage you to review the questions on the main FAQ Covid page.\n",
            "\n",
            "TOEFL AND GRE testing centres are closed in certain countries. What are my options for English Language Proficiency tests?\n",
            "\n",
            "If testing centres are closed, the following options are available for test-takers:\n",
            "\n",
            "English Language Proficiency\n",
            "\n",
            "TOEFL iBT Special Home Edition® is available in all areas that TOEFL iBT testing is normally available, except for Iran.\n",
            "\n",
            "For those students not able to use the TOEFL at-home test:\n",
            "\n",
            "The Duolingo English Test results may be used for possible placement in our English for Academic Success (EFAS) offered online through University of Waterloo, Renison University College, English Language Institute\n",
            "\n",
            "Duolingo score plus EFAS requirement for results to satisfy ELPC for Graduate Studies of 75% overall in level 400 with at least 75% in writing, oral and academic skills 85-94: 2 terms of English language support (EFAS) 95-104: 1 term of English language support (EFAS) 105+: good candidate for summer intensive support (EFAS)\n",
            "\n",
            "\n",
            "\n",
            "GRE and GMAT\n",
            "\n",
            "The GRE® General Test at Home is available everywhere the computer-delivered GRE General Test is offered, except for Iran.\n",
            "\n",
            "The GMAT Online exam is available in most locations, except for Mainland China, Cuba, Iran, North Korea, Sudan and Slovenia due to local data privacy rules.\n",
            "\n",
            "Return to top\n",
            "\n",
            "How and when should I enrol in my classes?\n",
            "\n",
            "Visit the important dates calendar for graduate studies to determine the beginning of the enrolment period for the term in which you are starting your graduate program. Students who have been matriculated (made active in their program) can enrol for courses through Quest.\n",
            "\n",
            "What supports are there to help new students?\n",
            "\n",
            "Waterloo Grad Ready program is designed especially for master’s and doctoral students. The program will connect you to other graduate students, support you along your academic journey to Waterloo and make sure you’re keeping up to date with important deadlines. You will receive more information about Waterloo Grad Ready in your inbox.\n",
            "\n",
            "Where do I find information about the breakdown of tuition and fees?\n",
            "\n",
            "Information about tuition and fees can be found on the Student Financial Services website.\n",
            "\n",
            "How do I activate my UWaterloo email address?\n",
            "\n",
            "Once you have been matriculated (made active) in your program, you can activate your UWaterloo email address. To do so, follow the steps on the Office 365 web page to activate your account. If you require any technical support activating your account, contact the IST Service Desk.\n",
            "\n",
            "Where do I find the degree requirements for my program?\n",
            "\n",
            "The Graduate Studies Academic Calendar contains the official degree requirements for each program offered at the University of Waterloo.\n",
            "\n",
            "Return to top\n",
            "\n",
            "Admissions\n",
            "\n",
            "Can I defer my offer of admission to a later term?\n",
            "\n",
            "Deferrals are managed by the academic program to which you have applied. If you wish to defer your admission, please contact your graduate program co-ordinator with your request.\n",
            "\n",
            "Do you accept electronic transcripts to clear my conditions?\n",
            "\n",
            "We will work with you to ensure your documents are received by your start date. To clear your conditions of admission: We will accept electronic transcripts provided by the issuing institution. Please have electronic transcripts sent directly from the issuing institution to gradadmissions@uwaterloo.ca . The documents from your institution must be received in a single PDF and include sender’s institution email address, full name and affiliation. GSPA will accept official secure electronic transcripts provided by the issuing institution and from services such as MyCreds, CHESICC, Digitary, eScript-Safe, National Student Clearinghouse, Parchment or TranscriptsNetwork. If your institution issues a secure electronic transcript, please have it sent to gradadmissions@uwaterloo.ca . We will accept official hard copy transcripts sent from the issuing institution directly to Graduate Studies and Postdoctoral Affairs If your institution is closed and/or cannot produce electronic transcripts, we will temporarily accept unofficial transcripts. Please send documentation (a screenshot) proving that the institution cannot produce electronic transcripts at this time to gradadmissions@uwaterloo.ca, along with an updated copy of your unofficial transcript. We will extend the due date on your outstanding conditions as indicated in your student center in Quest. This will allow you to register for your courses and become fees arranged. We will assess and evaluate your official and final documents when they become available. If your documents have already been mailed, but your Student Quest account indicates that you still have outstanding conditions, please send documentation (tracking number or confirmation that it has been delivered) to gradadmissions@uwaterloo.ca\n",
            "\n",
            "\n",
            "\n",
            "Return to top\n",
            "\n",
            "Accommodations\n",
            "\n",
            "What housing options are available to graduate students? What meal plans are available to graduate students?\n",
            "\n",
            "Do I have to be vaccinated to live in residence?\n",
            "\n",
            "Visit the COVID-19 information website for the latest information on vaccine requirements.\n",
            "\n",
            "Return to top\n",
            "\n",
            "Awards and funding\n",
            "\n",
            "How and when do I apply for funding for graduate school?\n",
            "\n",
            "There are a variety of opportunities to help support you in funding your education. For information, check out our scholarship competition resources web page.\n",
            "\n",
            "Campus access\n",
            "\n",
            "Visit the COVID-19 information website for the latest information about returning to campus.\n",
            "\n",
            "Return to top\n"
          ]
        }
      ]
    },
    {
      "cell_type": "code",
      "source": [
        "#Tokenization\n",
        "text = corpus\n",
        "sentence_list = nltk.sent_tokenize(text) #List of sentence"
      ],
      "metadata": {
        "id": "DsXNQMs-_SkB"
      },
      "execution_count": null,
      "outputs": []
    },
    {
      "cell_type": "code",
      "source": [
        "#Print list of sentences on the website\n",
        "print(sentence_list)"
      ],
      "metadata": {
        "colab": {
          "base_uri": "https://localhost:8080/"
        },
        "id": "yh27XyKaAbeP",
        "outputId": "6aaf2f7e-ba14-4bab-de53-982b73dfe901"
      },
      "execution_count": null,
      "outputs": [
        {
          "output_type": "stream",
          "name": "stdout",
          "text": [
            "['As you navigate the next exciting chapter of your academic life by starting your master’s or doctoral degree, we know you may have some questions.', 'Below we provide you with some answers!', 'If you don’t see your question (and your answer!', '), please explore the ways that you can connect with us to access the information you need.', 'General COVID-19 related questions\\n\\nFor answers to your general COVID-19 questions, including proof of vaccination status, campus Check-In tools, masks and facilities, visit the Frequently ask questions page on the COVID-19 information website.', 'Return to top\\n\\nInternational students\\n\\nOur colleagues in the Student Success Office, including immigration consultants, have provided a comprehensive list of questions and answers for international students.', 'We encourage you to review the questions on the main FAQ Covid page.', 'TOEFL AND GRE testing centres are closed in certain countries.', 'What are my options for English Language Proficiency tests?', 'If testing centres are closed, the following options are available for test-takers:\\n\\nEnglish Language Proficiency\\n\\nTOEFL iBT Special Home Edition® is available in all areas that TOEFL iBT testing is normally available, except for Iran.', 'For those students not able to use the TOEFL at-home test:\\n\\nThe Duolingo English Test results may be used for possible placement in our English for Academic Success (EFAS) offered online through University of Waterloo, Renison University College, English Language Institute\\n\\nDuolingo score plus EFAS requirement for results to satisfy ELPC for Graduate Studies of 75% overall in level 400 with at least 75% in writing, oral and academic skills 85-94: 2 terms of English language support (EFAS) 95-104: 1 term of English language support (EFAS) 105+: good candidate for summer intensive support (EFAS)\\n\\n\\n\\nGRE and GMAT\\n\\nThe GRE® General Test at Home is available everywhere the computer-delivered GRE General Test is offered, except for Iran.', 'The GMAT Online exam is available in most locations, except for Mainland China, Cuba, Iran, North Korea, Sudan and Slovenia due to local data privacy rules.', 'Return to top\\n\\nHow and when should I enrol in my classes?', 'Visit the important dates calendar for graduate studies to determine the beginning of the enrolment period for the term in which you are starting your graduate program.', 'Students who have been matriculated (made active in their program) can enrol for courses through Quest.', 'What supports are there to help new students?', 'Waterloo Grad Ready program is designed especially for master’s and doctoral students.', 'The program will connect you to other graduate students, support you along your academic journey to Waterloo and make sure you’re keeping up to date with important deadlines.', 'You will receive more information about Waterloo Grad Ready in your inbox.', 'Where do I find information about the breakdown of tuition and fees?', 'Information about tuition and fees can be found on the Student Financial Services website.', 'How do I activate my UWaterloo email address?', 'Once you have been matriculated (made active) in your program, you can activate your UWaterloo email address.', 'To do so, follow the steps on the Office 365 web page to activate your account.', 'If you require any technical support activating your account, contact the IST Service Desk.', 'Where do I find the degree requirements for my program?', 'The Graduate Studies Academic Calendar contains the official degree requirements for each program offered at the University of Waterloo.', 'Return to top\\n\\nAdmissions\\n\\nCan I defer my offer of admission to a later term?', 'Deferrals are managed by the academic program to which you have applied.', 'If you wish to defer your admission, please contact your graduate program co-ordinator with your request.', 'Do you accept electronic transcripts to clear my conditions?', 'We will work with you to ensure your documents are received by your start date.', 'To clear your conditions of admission: We will accept electronic transcripts provided by the issuing institution.', 'Please have electronic transcripts sent directly from the issuing institution to gradadmissions@uwaterloo.ca .', 'The documents from your institution must be received in a single PDF and include sender’s institution email address, full name and affiliation.', 'GSPA will accept official secure electronic transcripts provided by the issuing institution and from services such as MyCreds, CHESICC, Digitary, eScript-Safe, National Student Clearinghouse, Parchment or TranscriptsNetwork.', 'If your institution issues a secure electronic transcript, please have it sent to gradadmissions@uwaterloo.ca .', 'We will accept official hard copy transcripts sent from the issuing institution directly to Graduate Studies and Postdoctoral Affairs If your institution is closed and/or cannot produce electronic transcripts, we will temporarily accept unofficial transcripts.', 'Please send documentation (a screenshot) proving that the institution cannot produce electronic transcripts at this time to gradadmissions@uwaterloo.ca, along with an updated copy of your unofficial transcript.', 'We will extend the due date on your outstanding conditions as indicated in your student center in Quest.', 'This will allow you to register for your courses and become fees arranged.', 'We will assess and evaluate your official and final documents when they become available.', 'If your documents have already been mailed, but your Student Quest account indicates that you still have outstanding conditions, please send documentation (tracking number or confirmation that it has been delivered) to gradadmissions@uwaterloo.ca\\n\\n\\n\\nReturn to top\\n\\nAccommodations\\n\\nWhat housing options are available to graduate students?', 'What meal plans are available to graduate students?', 'Do I have to be vaccinated to live in residence?', 'Visit the COVID-19 information website for the latest information on vaccine requirements.', 'Return to top\\n\\nAwards and funding\\n\\nHow and when do I apply for funding for graduate school?', 'There are a variety of opportunities to help support you in funding your education.', 'For information, check out our scholarship competition resources web page.', 'Campus access\\n\\nVisit the COVID-19 information website for the latest information about returning to campus.', 'Return to top']\n"
          ]
        }
      ]
    },
    {
      "cell_type": "code",
      "source": [
        "# A function to return a random greeting response to a users greeting\n",
        "def greeting_response(text):\n",
        " text = text.lower()\n",
        " #Bots greeting response\n",
        " bot_greetings = ['howdy', 'hi', 'hey', 'hello', 'hola', 'wassup']\n",
        " #Users greeting\n",
        " user_greetings = ['hi', 'hello', 'wassup', 'heyyy', 'hola', 'yo', 'hey']\n",
        "\n",
        " for word in text.split():\n",
        "   if word in user_greetings:\n",
        "     return random.choice(bot_greetings)"
      ],
      "metadata": {
        "id": "glsZ-6dAApUk"
      },
      "execution_count": null,
      "outputs": []
    },
    {
      "cell_type": "code",
      "source": [
        "def index_sort(list_var):\n",
        "  length = len(list_var)\n",
        "  list_index = list(range(0, length))\n",
        "  \n",
        "  x = list_var\n",
        "  for i in range(length):\n",
        "   for j in range(length):\n",
        "     if x[list_index[i]] > x[list_index[j]] :\n",
        "       \n",
        "       #Swap\n",
        "       temp = list_index[i]\n",
        "       list_index[i] = list_index[j]\n",
        "       list_index[j] = temp\n",
        "  return list_index"
      ],
      "metadata": {
        "id": "cUj-Gfy7E2OS"
      },
      "execution_count": null,
      "outputs": []
    },
    {
      "cell_type": "code",
      "source": [
        "#Create the chatbots responses\n",
        "def bot_response(user_input):\n",
        "  user_input = user_input.lower()\n",
        "  sentence_list.append(user_input) #pin\n",
        "  bot_response = ''\n",
        "  cm = CountVectorizer().fit_transform(sentence_list)\n",
        "  similarity_scores = cosine_similarity(cm[-1], cm)\n",
        "  similarity_scores_list = similarity_scores.flatten()\n",
        "  index = index_sort(similarity_scores_list)\n",
        "  index = index[1:]\n",
        "  response_flag = 0\n",
        "\n",
        "  j = 0\n",
        "  for i in range(len(index)):\n",
        "    if similarity_scores_list[index[i]] > 0.0:\n",
        "      bot_response = bot_response+sentence_list[index[i]]\n",
        "      response_flag = 1\n",
        "\n",
        "      #return bot_response\n",
        "    j = j+1\n",
        "    if j > 2:\n",
        "      return bot_response\n",
        "      break\n",
        "      \n",
        "\n",
        "\n",
        "    if response_flag == 0:\n",
        "      bot_response = bot_response+' '+\"Apologies , I don't understand.\"\n",
        "      \n",
        "      sentence_list.remove(user_input)\n",
        "\n",
        "      return bot_response\n"
      ],
      "metadata": {
        "id": "J2jJrJ2FDYS1"
      },
      "execution_count": null,
      "outputs": []
    },
    {
      "cell_type": "code",
      "source": [
        "#Start the conversation\n",
        "print('Assistant Gisa: I am Gisa and I will answer queries regarding registration at NUST!')\n",
        "\n",
        "exit_list = ['goodbye', 'end', 'see you later', 'bye', 'ciao', 'exit', 'quit', 'terminate']\n",
        "\n",
        "while(True):\n",
        "  user_input = input(\"You: \")\n",
        "  if user_input.lower() in exit_list:\n",
        "    print('Assistant Gisa, Out!')\n",
        "    break\n",
        "\n",
        "  else:\n",
        "    if greeting_response(user_input) != None:\n",
        "      print('Assistant Gisa: ' + greeting_response(user_input))\n",
        "    else:\n",
        "      print(\"Assistant Gisa: \" + bot_response(user_input))\n",
        "      "
      ],
      "metadata": {
        "colab": {
          "base_uri": "https://localhost:8080/"
        },
        "id": "nSm3N-igPC4n",
        "outputId": "3980f246-d186-4916-d8b5-ac36ba346a05"
      },
      "execution_count": null,
      "outputs": [
        {
          "output_type": "stream",
          "name": "stdout",
          "text": [
            "Assistant Gisa: I am Gisa and I will answer queries regarding registration at NUST!\n",
            "You: hi\n",
            "Assistant Gisa: hi\n",
            "You: wassup\n",
            "Assistant Gisa: hi\n",
            "You: hey\n",
            "Assistant Gisa: hola\n",
            "You: hat housing options are available to graduate students\n",
            "Assistant Gisa: What meal plans are available to graduate students?If your documents have already been mailed, but your Student Quest account indicates that you still have outstanding conditions, please send documentation (tracking number or confirmation that it has been delivered) to gradadmissions@uwaterloo.ca\n",
            "\n",
            "\n",
            "\n",
            "Return to top\n",
            "\n",
            "Accommodations\n",
            "\n",
            "What housing options are available to graduate students?What supports are there to help new students?\n",
            "You: housing options available\n",
            "Assistant Gisa: hat housing options are available to graduate studentsIf testing centres are closed, the following options are available for test-takers:\n",
            "\n",
            "English Language Proficiency\n",
            "\n",
            "TOEFL iBT Special Home Edition® is available in all areas that TOEFL iBT testing is normally available, except for Iran.If your documents have already been mailed, but your Student Quest account indicates that you still have outstanding conditions, please send documentation (tracking number or confirmation that it has been delivered) to gradadmissions@uwaterloo.ca\n",
            "\n",
            "\n",
            "\n",
            "Return to top\n",
            "\n",
            "Accommodations\n",
            "\n",
            "What housing options are available to graduate students?\n",
            "You: housing\n",
            "Assistant Gisa: housing options availablehat housing options are available to graduate studentsIf your documents have already been mailed, but your Student Quest account indicates that you still have outstanding conditions, please send documentation (tracking number or confirmation that it has been delivered) to gradadmissions@uwaterloo.ca\n",
            "\n",
            "\n",
            "\n",
            "Return to top\n",
            "\n",
            "Accommodations\n",
            "\n",
            "What housing options are available to graduate students?\n",
            "You: Can I defer my offer of admission\n",
            "Assistant Gisa: Return to top\n",
            "\n",
            "Admissions\n",
            "\n",
            "Can I defer my offer of admission to a later term?To clear your conditions of admission: We will accept electronic transcripts provided by the issuing institution.If you wish to defer your admission, please contact your graduate program co-ordinator with your request.\n",
            "You: defer my offer of admission\n",
            "Assistant Gisa: can i defer my offer of admissionReturn to top\n",
            "\n",
            "Admissions\n",
            "\n",
            "Can I defer my offer of admission to a later term?To clear your conditions of admission: We will accept electronic transcripts provided by the issuing institution.\n",
            "You: How to enrol\n",
            "Assistant Gisa: Return to top\n",
            "\n",
            "How and when should I enrol in my classes?Do I have to be vaccinated to live in residence?Return to top\n",
            "You: bye\n",
            "Assistant Gisa, Out!\n"
          ]
        }
      ]
    }
  ]
}